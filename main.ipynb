{
 "cells": [
  {
   "cell_type": "code",
   "execution_count": 7,
   "metadata": {},
   "outputs": [],
   "source": [
    "# main.ipynb file\n",
    "\"\"\"\n",
    "A simple Blockchain in Python\n",
    "\"\"\"\n",
    "\n",
    "import hashlib"
   ]
  },
  {
   "cell_type": "code",
   "execution_count": 8,
   "metadata": {},
   "outputs": [],
   "source": [
    "class GRCCoinBlock:\n",
    "    \n",
    "    def __init__(self, previous_block_hash, transaction_list):\n",
    "\n",
    "        self.previous_block_hash = previous_block_hash\n",
    "        self.transaction_list = transaction_list\n",
    "\n",
    "        self.block_data = f\"{' - '.join(transaction_list)} - {previous_block_hash}\"\n",
    "        self.block_hash = hashlib.sha256(self.block_data.encode()).hexdigest()"
   ]
  },
  {
   "cell_type": "code",
   "execution_count": 9,
   "metadata": {},
   "outputs": [],
   "source": [
    "class Blockchain:\n",
    "    def __init__(self):\n",
    "        self.chain = []\n",
    "        self.generate_genesis_block()\n",
    "\n",
    "    def generate_genesis_block(self):\n",
    "        self.chain.append(GRCCoinBlock(\"0\", ['Genesis Block']))\n",
    "    \n",
    "    def create_block_from_transaction(self, transaction_list):\n",
    "        previous_block_hash = self.last_block.block_hash\n",
    "        self.chain.append(GRCCoinBlock(previous_block_hash, transaction_list))\n",
    "\n",
    "    def display_chain(self):\n",
    "        for i in range(len(self.chain)):\n",
    "            print(f\"Data {i + 1}: {self.chain[i].block_data}\")\n",
    "            print(f\"Hash {i + 1}: {self.chain[i].block_hash}\\n\")\n",
    "\n",
    "    @property\n",
    "    def last_block(self):\n",
    "        return self.chain[-1]"
   ]
  },
  {
   "cell_type": "code",
   "execution_count": 10,
   "metadata": {},
   "outputs": [
    {
     "name": "stdout",
     "output_type": "stream",
     "text": [
      "Data 1: Genesis Block - 0\n",
      "Hash 1: 39331a6a2ea1cf31a5014b2a7c9e8dfad82df0b0666e81ce04cf8173cc5aed3e\n",
      "\n",
      "Data 2: George sends 3.1 GRC to Joe - Joe sends 2.5 GRC to Adam - 39331a6a2ea1cf31a5014b2a7c9e8dfad82df0b0666e81ce04cf8173cc5aed3e\n",
      "Hash 2: 05ef86b59d7d24324687b49f083cd95a263522a0ad8e176634168994ed6f304e\n",
      "\n",
      "Data 3: Adam sends 1.2 GRC to Bob - Bob sends 0.5 GRC to Charlie - 05ef86b59d7d24324687b49f083cd95a263522a0ad8e176634168994ed6f304e\n",
      "Hash 3: bba75c8ba18d80059a6c6ebac3520ea89f0cd94aa3061c962f501269e22aff6e\n",
      "\n",
      "Data 4: Charlie sends 0.2 GRC to David - David sends 0.1 GRC to Eric - bba75c8ba18d80059a6c6ebac3520ea89f0cd94aa3061c962f501269e22aff6e\n",
      "Hash 4: 5883dde002604a11ef31a55d11140cd4a8cbd0ff72d6db0c47c638697b757634\n",
      "\n"
     ]
    }
   ],
   "source": [
    "t1 = \"George sends 3.1 GRC to Joe\"\n",
    "t2 = \"Joe sends 2.5 GRC to Adam\"\n",
    "t3 = \"Adam sends 1.2 GRC to Bob\"\n",
    "t4 = \"Bob sends 0.5 GRC to Charlie\"\n",
    "t5 = \"Charlie sends 0.2 GRC to David\"\n",
    "t6 = \"David sends 0.1 GRC to Eric\"\n",
    "\n",
    "myblockchain = Blockchain()\n",
    "\n",
    "myblockchain.create_block_from_transaction([t1, t2])\n",
    "myblockchain.create_block_from_transaction([t3, t4])\n",
    "myblockchain.create_block_from_transaction([t5, t6])\n",
    "\n",
    "myblockchain.display_chain()"
   ]
  },
  {
   "cell_type": "code",
   "execution_count": null,
   "metadata": {},
   "outputs": [],
   "source": []
  }
 ],
 "metadata": {
  "kernelspec": {
   "display_name": "Python 3.10.5 64-bit",
   "language": "python",
   "name": "python3"
  },
  "language_info": {
   "codemirror_mode": {
    "name": "ipython",
    "version": 3
   },
   "file_extension": ".py",
   "mimetype": "text/x-python",
   "name": "python",
   "nbconvert_exporter": "python",
   "pygments_lexer": "ipython3",
   "version": "3.10.5"
  },
  "orig_nbformat": 4,
  "vscode": {
   "interpreter": {
    "hash": "369f2c481f4da34e4445cda3fffd2e751bd1c4d706f27375911949ba6bb62e1c"
   }
  }
 },
 "nbformat": 4,
 "nbformat_minor": 2
}
